{
 "cells": [
  {
   "cell_type": "code",
   "execution_count": 3,
   "metadata": {},
   "outputs": [
    {
     "name": "stdout",
     "output_type": "stream",
     "text": [
      "[43, 1, 18, 15, 50]\n",
      "Correct : 4 Incorrect : 1 Accuracy : 80.0 %\n",
      "Correct : 4 Incorrect : 1 Accuracy : 80.0 %\n",
      "[43, 1, 18, 15, 50]\n",
      "Correct : 4 Incorrect : 1 Accuracy : 80.0 %\n",
      "Correct : 4 Incorrect : 1 Accuracy : 80.0 %\n",
      "[43, 1, 18, 15, 50]\n",
      "Correct : 5 Incorrect : 0 Accuracy : 100.0 %\n",
      "Correct : 5 Incorrect : 0 Accuracy : 100.0 %\n",
      "[43, 1, 18, 15, 50]\n",
      "Correct : 5 Incorrect : 0 Accuracy : 100.0 %\n",
      "Correct : 5 Incorrect : 0 Accuracy : 100.0 %\n",
      "[43, 1, 18, 15, 50]\n",
      "Correct : 5 Incorrect : 0 Accuracy : 100.0 %\n",
      "Correct : 5 Incorrect : 0 Accuracy : 100.0 %\n",
      "[43, 1, 18, 15, 50]\n",
      "Correct : 5 Incorrect : 0 Accuracy : 100.0 %\n",
      "Correct : 5 Incorrect : 0 Accuracy : 100.0 %\n",
      "[43, 1, 18, 15, 50]\n",
      "Correct : 4 Incorrect : 1 Accuracy : 80.0 %\n",
      "Correct : 4 Incorrect : 1 Accuracy : 80.0 %\n",
      "[43, 1, 18, 15, 50]\n",
      "Correct : 4 Incorrect : 1 Accuracy : 80.0 %\n",
      "Correct : 4 Incorrect : 1 Accuracy : 80.0 %\n",
      "[43, 1, 18, 15, 50]\n",
      "Correct : 5 Incorrect : 0 Accuracy : 100.0 %\n",
      "Correct : 5 Incorrect : 0 Accuracy : 100.0 %\n",
      "[43, 1, 18, 15, 50]\n",
      "Correct : 5 Incorrect : 0 Accuracy : 100.0 %\n",
      "Correct : 5 Incorrect : 0 Accuracy : 100.0 %\n",
      "[43, 1, 18, 15, 50]\n",
      "Correct : 5 Incorrect : 0 Accuracy : 100.0 %\n",
      "Correct : 5 Incorrect : 0 Accuracy : 100.0 %\n",
      "[43, 1, 18, 15, 50]\n",
      "Correct : 5 Incorrect : 0 Accuracy : 100.0 %\n",
      "Correct : 5 Incorrect : 0 Accuracy : 100.0 %\n",
      "[43, 1, 18, 15, 50]\n",
      "Correct : 13 Incorrect : 2 Accuracy : 86.66666666666667 %\n",
      "Correct : 13 Incorrect : 2 Accuracy : 86.66666666666667 %\n",
      "[43, 1, 18, 15, 50]\n",
      "Correct : 14 Incorrect : 1 Accuracy : 93.33333333333333 %\n",
      "Correct : 14 Incorrect : 1 Accuracy : 93.33333333333333 %\n",
      "[43, 1, 18, 15, 50]\n",
      "Correct : 15 Incorrect : 0 Accuracy : 100.0 %\n",
      "Correct : 15 Incorrect : 0 Accuracy : 100.0 %\n",
      "[43, 1, 18, 15, 50]\n",
      "Correct : 15 Incorrect : 0 Accuracy : 100.0 %\n",
      "Correct : 15 Incorrect : 0 Accuracy : 100.0 %\n",
      "[43, 1, 18, 15, 50]\n",
      "Correct : 15 Incorrect : 0 Accuracy : 100.0 %\n",
      "Correct : 15 Incorrect : 0 Accuracy : 100.0 %\n",
      "[43, 1, 18, 15, 50]\n",
      "Correct : 15 Incorrect : 0 Accuracy : 100.0 %\n",
      "Correct : 15 Incorrect : 0 Accuracy : 100.0 %\n",
      "[43, 1, 18, 15, 50]\n",
      "Correct : 14 Incorrect : 6 Accuracy : 70.0 %\n",
      "Correct : 14 Incorrect : 6 Accuracy : 70.0 %\n",
      "[43, 1, 18, 15, 50]\n",
      "Correct : 17 Incorrect : 3 Accuracy : 85.0 %\n",
      "Correct : 17 Incorrect : 3 Accuracy : 85.0 %\n",
      "[43, 1, 18, 15, 50]\n",
      "Correct : 14 Incorrect : 6 Accuracy : 70.0 %\n",
      "Correct : 14 Incorrect : 6 Accuracy : 70.0 %\n",
      "[43, 1, 18, 15, 50]\n",
      "Correct : 14 Incorrect : 6 Accuracy : 70.0 %\n",
      "Correct : 14 Incorrect : 6 Accuracy : 70.0 %\n",
      "[43, 1, 18, 15, 50]\n",
      "Correct : 13 Incorrect : 7 Accuracy : 65.0 %\n",
      "Correct : 13 Incorrect : 7 Accuracy : 65.0 %\n",
      "[43, 1, 18, 15, 50]\n",
      "Correct : 12 Incorrect : 8 Accuracy : 60.0 %\n",
      "Correct : 12 Incorrect : 8 Accuracy : 60.0 %\n",
      "[43, 1, 18, 15, 50]\n",
      "Correct : 5 Incorrect : 20 Accuracy : 20.0 %\n",
      "Correct : 5 Incorrect : 20 Accuracy : 20.0 %\n"
     ]
    },
    {
     "name": "stderr",
     "output_type": "stream",
     "text": [
      "c:\\users\\prashant\\appdata\\local\\programs\\python\\python37\\lib\\site-packages\\numpy\\core\\fromnumeric.py:3335: RuntimeWarning: Mean of empty slice.\n",
      "  out=out, **kwargs)\n",
      "c:\\users\\prashant\\appdata\\local\\programs\\python\\python37\\lib\\site-packages\\numpy\\core\\_methods.py:154: RuntimeWarning: invalid value encountered in true_divide\n",
      "  ret, rcount, out=ret, casting='unsafe', subok=False)\n",
      "c:\\users\\prashant\\appdata\\local\\programs\\python\\python37\\lib\\site-packages\\numpy\\core\\fromnumeric.py:3584: RuntimeWarning: Degrees of freedom <= 0 for slice\n",
      "  **kwargs)\n",
      "c:\\users\\prashant\\appdata\\local\\programs\\python\\python37\\lib\\site-packages\\numpy\\core\\_methods.py:186: RuntimeWarning: invalid value encountered in true_divide\n",
      "  arrmean, rcount, out=arrmean, casting='unsafe', subok=False)\n",
      "c:\\users\\prashant\\appdata\\local\\programs\\python\\python37\\lib\\site-packages\\numpy\\core\\_methods.py:207: RuntimeWarning: invalid value encountered in true_divide\n",
      "  ret, rcount, out=ret, casting='unsafe', subok=False)\n"
     ]
    },
    {
     "name": "stdout",
     "output_type": "stream",
     "text": [
      "[43, 1, 18, 15, 50]\n",
      "Correct : 5 Incorrect : 20 Accuracy : 20.0 %\n",
      "Correct : 5 Incorrect : 20 Accuracy : 20.0 %\n"
     ]
    },
    {
     "name": "stderr",
     "output_type": "stream",
     "text": [
      "c:\\users\\prashant\\appdata\\local\\programs\\python\\python37\\lib\\site-packages\\numpy\\core\\fromnumeric.py:3335: RuntimeWarning: Mean of empty slice.\n",
      "  out=out, **kwargs)\n",
      "c:\\users\\prashant\\appdata\\local\\programs\\python\\python37\\lib\\site-packages\\numpy\\core\\_methods.py:154: RuntimeWarning: invalid value encountered in true_divide\n",
      "  ret, rcount, out=ret, casting='unsafe', subok=False)\n",
      "c:\\users\\prashant\\appdata\\local\\programs\\python\\python37\\lib\\site-packages\\numpy\\core\\fromnumeric.py:3584: RuntimeWarning: Degrees of freedom <= 0 for slice\n",
      "  **kwargs)\n",
      "c:\\users\\prashant\\appdata\\local\\programs\\python\\python37\\lib\\site-packages\\numpy\\core\\_methods.py:186: RuntimeWarning: invalid value encountered in true_divide\n",
      "  arrmean, rcount, out=arrmean, casting='unsafe', subok=False)\n",
      "c:\\users\\prashant\\appdata\\local\\programs\\python\\python37\\lib\\site-packages\\numpy\\core\\_methods.py:207: RuntimeWarning: invalid value encountered in true_divide\n",
      "  ret, rcount, out=ret, casting='unsafe', subok=False)\n"
     ]
    },
    {
     "name": "stdout",
     "output_type": "stream",
     "text": [
      "[43, 1, 18, 15, 50]\n",
      "Correct : 5 Incorrect : 20 Accuracy : 20.0 %\n",
      "Correct : 5 Incorrect : 20 Accuracy : 20.0 %\n"
     ]
    },
    {
     "name": "stderr",
     "output_type": "stream",
     "text": [
      "c:\\users\\prashant\\appdata\\local\\programs\\python\\python37\\lib\\site-packages\\numpy\\core\\fromnumeric.py:3335: RuntimeWarning: Mean of empty slice.\n",
      "  out=out, **kwargs)\n",
      "c:\\users\\prashant\\appdata\\local\\programs\\python\\python37\\lib\\site-packages\\numpy\\core\\_methods.py:154: RuntimeWarning: invalid value encountered in true_divide\n",
      "  ret, rcount, out=ret, casting='unsafe', subok=False)\n",
      "c:\\users\\prashant\\appdata\\local\\programs\\python\\python37\\lib\\site-packages\\numpy\\core\\fromnumeric.py:3584: RuntimeWarning: Degrees of freedom <= 0 for slice\n",
      "  **kwargs)\n",
      "c:\\users\\prashant\\appdata\\local\\programs\\python\\python37\\lib\\site-packages\\numpy\\core\\_methods.py:186: RuntimeWarning: invalid value encountered in true_divide\n",
      "  arrmean, rcount, out=arrmean, casting='unsafe', subok=False)\n",
      "c:\\users\\prashant\\appdata\\local\\programs\\python\\python37\\lib\\site-packages\\numpy\\core\\_methods.py:207: RuntimeWarning: invalid value encountered in true_divide\n",
      "  ret, rcount, out=ret, casting='unsafe', subok=False)\n"
     ]
    },
    {
     "name": "stdout",
     "output_type": "stream",
     "text": [
      "[43, 1, 18, 15, 50]\n",
      "Correct : 5 Incorrect : 20 Accuracy : 20.0 %\n",
      "Correct : 5 Incorrect : 20 Accuracy : 20.0 %\n"
     ]
    },
    {
     "name": "stderr",
     "output_type": "stream",
     "text": [
      "c:\\users\\prashant\\appdata\\local\\programs\\python\\python37\\lib\\site-packages\\numpy\\core\\fromnumeric.py:3335: RuntimeWarning: Mean of empty slice.\n",
      "  out=out, **kwargs)\n",
      "c:\\users\\prashant\\appdata\\local\\programs\\python\\python37\\lib\\site-packages\\numpy\\core\\_methods.py:154: RuntimeWarning: invalid value encountered in true_divide\n",
      "  ret, rcount, out=ret, casting='unsafe', subok=False)\n",
      "c:\\users\\prashant\\appdata\\local\\programs\\python\\python37\\lib\\site-packages\\numpy\\core\\fromnumeric.py:3584: RuntimeWarning: Degrees of freedom <= 0 for slice\n",
      "  **kwargs)\n",
      "c:\\users\\prashant\\appdata\\local\\programs\\python\\python37\\lib\\site-packages\\numpy\\core\\_methods.py:186: RuntimeWarning: invalid value encountered in true_divide\n",
      "  arrmean, rcount, out=arrmean, casting='unsafe', subok=False)\n",
      "c:\\users\\prashant\\appdata\\local\\programs\\python\\python37\\lib\\site-packages\\numpy\\core\\_methods.py:207: RuntimeWarning: invalid value encountered in true_divide\n",
      "  ret, rcount, out=ret, casting='unsafe', subok=False)\n"
     ]
    },
    {
     "name": "stdout",
     "output_type": "stream",
     "text": [
      "[43, 1, 18, 15, 50]\n",
      "Correct : 5 Incorrect : 20 Accuracy : 20.0 %\n",
      "Correct : 5 Incorrect : 20 Accuracy : 20.0 %\n"
     ]
    },
    {
     "name": "stderr",
     "output_type": "stream",
     "text": [
      "c:\\users\\prashant\\appdata\\local\\programs\\python\\python37\\lib\\site-packages\\numpy\\core\\fromnumeric.py:3335: RuntimeWarning: Mean of empty slice.\n",
      "  out=out, **kwargs)\n",
      "c:\\users\\prashant\\appdata\\local\\programs\\python\\python37\\lib\\site-packages\\numpy\\core\\_methods.py:154: RuntimeWarning: invalid value encountered in true_divide\n",
      "  ret, rcount, out=ret, casting='unsafe', subok=False)\n",
      "c:\\users\\prashant\\appdata\\local\\programs\\python\\python37\\lib\\site-packages\\numpy\\core\\fromnumeric.py:3584: RuntimeWarning: Degrees of freedom <= 0 for slice\n",
      "  **kwargs)\n",
      "c:\\users\\prashant\\appdata\\local\\programs\\python\\python37\\lib\\site-packages\\numpy\\core\\_methods.py:186: RuntimeWarning: invalid value encountered in true_divide\n",
      "  arrmean, rcount, out=arrmean, casting='unsafe', subok=False)\n",
      "c:\\users\\prashant\\appdata\\local\\programs\\python\\python37\\lib\\site-packages\\numpy\\core\\_methods.py:207: RuntimeWarning: invalid value encountered in true_divide\n",
      "  ret, rcount, out=ret, casting='unsafe', subok=False)\n"
     ]
    },
    {
     "name": "stdout",
     "output_type": "stream",
     "text": [
      "[43, 1, 18, 15, 50]\n",
      "Correct : 5 Incorrect : 20 Accuracy : 20.0 %\n",
      "Correct : 5 Incorrect : 20 Accuracy : 20.0 %\n"
     ]
    },
    {
     "name": "stderr",
     "output_type": "stream",
     "text": [
      "c:\\users\\prashant\\appdata\\local\\programs\\python\\python37\\lib\\site-packages\\numpy\\core\\fromnumeric.py:3335: RuntimeWarning: Mean of empty slice.\n",
      "  out=out, **kwargs)\n",
      "c:\\users\\prashant\\appdata\\local\\programs\\python\\python37\\lib\\site-packages\\numpy\\core\\_methods.py:154: RuntimeWarning: invalid value encountered in true_divide\n",
      "  ret, rcount, out=ret, casting='unsafe', subok=False)\n",
      "c:\\users\\prashant\\appdata\\local\\programs\\python\\python37\\lib\\site-packages\\numpy\\core\\fromnumeric.py:3584: RuntimeWarning: Degrees of freedom <= 0 for slice\n",
      "  **kwargs)\n",
      "c:\\users\\prashant\\appdata\\local\\programs\\python\\python37\\lib\\site-packages\\numpy\\core\\_methods.py:186: RuntimeWarning: invalid value encountered in true_divide\n",
      "  arrmean, rcount, out=arrmean, casting='unsafe', subok=False)\n",
      "c:\\users\\prashant\\appdata\\local\\programs\\python\\python37\\lib\\site-packages\\numpy\\core\\_methods.py:207: RuntimeWarning: invalid value encountered in true_divide\n",
      "  ret, rcount, out=ret, casting='unsafe', subok=False)\n"
     ]
    },
    {
     "name": "stdout",
     "output_type": "stream",
     "text": [
      "[43, 1, 18, 15, 50]\n",
      "Correct : 7 Incorrect : 28 Accuracy : 20.0 %\n",
      "Correct : 7 Incorrect : 28 Accuracy : 20.0 %\n"
     ]
    },
    {
     "name": "stderr",
     "output_type": "stream",
     "text": [
      "c:\\users\\prashant\\appdata\\local\\programs\\python\\python37\\lib\\site-packages\\numpy\\core\\fromnumeric.py:3335: RuntimeWarning: Mean of empty slice.\n",
      "  out=out, **kwargs)\n",
      "c:\\users\\prashant\\appdata\\local\\programs\\python\\python37\\lib\\site-packages\\numpy\\core\\_methods.py:154: RuntimeWarning: invalid value encountered in true_divide\n",
      "  ret, rcount, out=ret, casting='unsafe', subok=False)\n",
      "c:\\users\\prashant\\appdata\\local\\programs\\python\\python37\\lib\\site-packages\\numpy\\core\\fromnumeric.py:3584: RuntimeWarning: Degrees of freedom <= 0 for slice\n",
      "  **kwargs)\n",
      "c:\\users\\prashant\\appdata\\local\\programs\\python\\python37\\lib\\site-packages\\numpy\\core\\_methods.py:186: RuntimeWarning: invalid value encountered in true_divide\n",
      "  arrmean, rcount, out=arrmean, casting='unsafe', subok=False)\n",
      "c:\\users\\prashant\\appdata\\local\\programs\\python\\python37\\lib\\site-packages\\numpy\\core\\_methods.py:207: RuntimeWarning: invalid value encountered in true_divide\n",
      "  ret, rcount, out=ret, casting='unsafe', subok=False)\n"
     ]
    },
    {
     "name": "stdout",
     "output_type": "stream",
     "text": [
      "[43, 1, 18, 15, 50]\n",
      "Correct : 7 Incorrect : 28 Accuracy : 20.0 %\n",
      "Correct : 7 Incorrect : 28 Accuracy : 20.0 %\n"
     ]
    },
    {
     "name": "stderr",
     "output_type": "stream",
     "text": [
      "c:\\users\\prashant\\appdata\\local\\programs\\python\\python37\\lib\\site-packages\\numpy\\core\\fromnumeric.py:3335: RuntimeWarning: Mean of empty slice.\n",
      "  out=out, **kwargs)\n",
      "c:\\users\\prashant\\appdata\\local\\programs\\python\\python37\\lib\\site-packages\\numpy\\core\\_methods.py:154: RuntimeWarning: invalid value encountered in true_divide\n",
      "  ret, rcount, out=ret, casting='unsafe', subok=False)\n",
      "c:\\users\\prashant\\appdata\\local\\programs\\python\\python37\\lib\\site-packages\\numpy\\core\\fromnumeric.py:3584: RuntimeWarning: Degrees of freedom <= 0 for slice\n",
      "  **kwargs)\n",
      "c:\\users\\prashant\\appdata\\local\\programs\\python\\python37\\lib\\site-packages\\numpy\\core\\_methods.py:186: RuntimeWarning: invalid value encountered in true_divide\n",
      "  arrmean, rcount, out=arrmean, casting='unsafe', subok=False)\n",
      "c:\\users\\prashant\\appdata\\local\\programs\\python\\python37\\lib\\site-packages\\numpy\\core\\_methods.py:207: RuntimeWarning: invalid value encountered in true_divide\n",
      "  ret, rcount, out=ret, casting='unsafe', subok=False)\n"
     ]
    },
    {
     "name": "stdout",
     "output_type": "stream",
     "text": [
      "[43, 1, 18, 15, 50]\n",
      "Correct : 7 Incorrect : 28 Accuracy : 20.0 %\n",
      "Correct : 7 Incorrect : 28 Accuracy : 20.0 %\n"
     ]
    },
    {
     "name": "stderr",
     "output_type": "stream",
     "text": [
      "c:\\users\\prashant\\appdata\\local\\programs\\python\\python37\\lib\\site-packages\\numpy\\core\\fromnumeric.py:3335: RuntimeWarning: Mean of empty slice.\n",
      "  out=out, **kwargs)\n",
      "c:\\users\\prashant\\appdata\\local\\programs\\python\\python37\\lib\\site-packages\\numpy\\core\\_methods.py:154: RuntimeWarning: invalid value encountered in true_divide\n",
      "  ret, rcount, out=ret, casting='unsafe', subok=False)\n",
      "c:\\users\\prashant\\appdata\\local\\programs\\python\\python37\\lib\\site-packages\\numpy\\core\\fromnumeric.py:3584: RuntimeWarning: Degrees of freedom <= 0 for slice\n",
      "  **kwargs)\n",
      "c:\\users\\prashant\\appdata\\local\\programs\\python\\python37\\lib\\site-packages\\numpy\\core\\_methods.py:186: RuntimeWarning: invalid value encountered in true_divide\n",
      "  arrmean, rcount, out=arrmean, casting='unsafe', subok=False)\n",
      "c:\\users\\prashant\\appdata\\local\\programs\\python\\python37\\lib\\site-packages\\numpy\\core\\_methods.py:207: RuntimeWarning: invalid value encountered in true_divide\n",
      "  ret, rcount, out=ret, casting='unsafe', subok=False)\n"
     ]
    },
    {
     "name": "stdout",
     "output_type": "stream",
     "text": [
      "[43, 1, 18, 15, 50]\n",
      "Correct : 7 Incorrect : 28 Accuracy : 20.0 %\n",
      "Correct : 7 Incorrect : 28 Accuracy : 20.0 %\n"
     ]
    },
    {
     "name": "stderr",
     "output_type": "stream",
     "text": [
      "c:\\users\\prashant\\appdata\\local\\programs\\python\\python37\\lib\\site-packages\\numpy\\core\\fromnumeric.py:3335: RuntimeWarning: Mean of empty slice.\n",
      "  out=out, **kwargs)\n",
      "c:\\users\\prashant\\appdata\\local\\programs\\python\\python37\\lib\\site-packages\\numpy\\core\\_methods.py:154: RuntimeWarning: invalid value encountered in true_divide\n",
      "  ret, rcount, out=ret, casting='unsafe', subok=False)\n",
      "c:\\users\\prashant\\appdata\\local\\programs\\python\\python37\\lib\\site-packages\\numpy\\core\\fromnumeric.py:3584: RuntimeWarning: Degrees of freedom <= 0 for slice\n",
      "  **kwargs)\n",
      "c:\\users\\prashant\\appdata\\local\\programs\\python\\python37\\lib\\site-packages\\numpy\\core\\_methods.py:186: RuntimeWarning: invalid value encountered in true_divide\n",
      "  arrmean, rcount, out=arrmean, casting='unsafe', subok=False)\n",
      "c:\\users\\prashant\\appdata\\local\\programs\\python\\python37\\lib\\site-packages\\numpy\\core\\_methods.py:207: RuntimeWarning: invalid value encountered in true_divide\n",
      "  ret, rcount, out=ret, casting='unsafe', subok=False)\n"
     ]
    },
    {
     "name": "stdout",
     "output_type": "stream",
     "text": [
      "[43, 1, 18, 15, 50]\n",
      "Correct : 7 Incorrect : 28 Accuracy : 20.0 %\n",
      "Correct : 7 Incorrect : 28 Accuracy : 20.0 %\n"
     ]
    },
    {
     "name": "stderr",
     "output_type": "stream",
     "text": [
      "c:\\users\\prashant\\appdata\\local\\programs\\python\\python37\\lib\\site-packages\\numpy\\core\\fromnumeric.py:3335: RuntimeWarning: Mean of empty slice.\n",
      "  out=out, **kwargs)\n",
      "c:\\users\\prashant\\appdata\\local\\programs\\python\\python37\\lib\\site-packages\\numpy\\core\\_methods.py:154: RuntimeWarning: invalid value encountered in true_divide\n",
      "  ret, rcount, out=ret, casting='unsafe', subok=False)\n",
      "c:\\users\\prashant\\appdata\\local\\programs\\python\\python37\\lib\\site-packages\\numpy\\core\\fromnumeric.py:3584: RuntimeWarning: Degrees of freedom <= 0 for slice\n",
      "  **kwargs)\n",
      "c:\\users\\prashant\\appdata\\local\\programs\\python\\python37\\lib\\site-packages\\numpy\\core\\_methods.py:186: RuntimeWarning: invalid value encountered in true_divide\n",
      "  arrmean, rcount, out=arrmean, casting='unsafe', subok=False)\n",
      "c:\\users\\prashant\\appdata\\local\\programs\\python\\python37\\lib\\site-packages\\numpy\\core\\_methods.py:207: RuntimeWarning: invalid value encountered in true_divide\n",
      "  ret, rcount, out=ret, casting='unsafe', subok=False)\n"
     ]
    },
    {
     "name": "stdout",
     "output_type": "stream",
     "text": [
      "[43, 1, 18, 15, 50]\n",
      "Correct : 7 Incorrect : 28 Accuracy : 20.0 %\n",
      "Correct : 7 Incorrect : 28 Accuracy : 20.0 %\n"
     ]
    },
    {
     "name": "stderr",
     "output_type": "stream",
     "text": [
      "c:\\users\\prashant\\appdata\\local\\programs\\python\\python37\\lib\\site-packages\\numpy\\core\\fromnumeric.py:3335: RuntimeWarning: Mean of empty slice.\n",
      "  out=out, **kwargs)\n",
      "c:\\users\\prashant\\appdata\\local\\programs\\python\\python37\\lib\\site-packages\\numpy\\core\\_methods.py:154: RuntimeWarning: invalid value encountered in true_divide\n",
      "  ret, rcount, out=ret, casting='unsafe', subok=False)\n",
      "c:\\users\\prashant\\appdata\\local\\programs\\python\\python37\\lib\\site-packages\\numpy\\core\\fromnumeric.py:3584: RuntimeWarning: Degrees of freedom <= 0 for slice\n",
      "  **kwargs)\n",
      "c:\\users\\prashant\\appdata\\local\\programs\\python\\python37\\lib\\site-packages\\numpy\\core\\_methods.py:186: RuntimeWarning: invalid value encountered in true_divide\n",
      "  arrmean, rcount, out=arrmean, casting='unsafe', subok=False)\n",
      "c:\\users\\prashant\\appdata\\local\\programs\\python\\python37\\lib\\site-packages\\numpy\\core\\_methods.py:207: RuntimeWarning: invalid value encountered in true_divide\n",
      "  ret, rcount, out=ret, casting='unsafe', subok=False)\n"
     ]
    }
   ],
   "source": [
    "import numpy as np \n",
    "import pandas as pd\n",
    "from scipy.io import loadmat\n",
    "import matplotlib.pyplot as plt\n",
    "import matplotlib.image as mpimg\n",
    "from numpy.linalg import det, svd, inv, norm\n",
    "from scipy import stats\n",
    "import random\n",
    "\n",
    "## PCA + Bayes Classifier (poses):\n",
    "def bayes_poses(split_ratio, pca_dim):\n",
    "    PCA_DIM=pca_dim\n",
    "    CLASSES=5\n",
    "    SPLIT_RATIO=split_ratio\n",
    "\n",
    "    pose_data = loadmat('pose.mat')\n",
    "    pose_data['pose'].shape\n",
    "\n",
    "    poses = np.zeros((884,1920))\n",
    "    for i in range(0,884):\n",
    "        poses[i] = pose_data['pose'][:,:,i%13,i//13].reshape([1920])\n",
    "\n",
    "\n",
    "    U, sigma, V = svd(poses.transpose())\n",
    "    Y = np.dot(poses, U[:,0:PCA_DIM])\n",
    "\n",
    "\n",
    "    TRAIN=round(13*SPLIT_RATIO)\n",
    "    TEST=13-TRAIN\n",
    "\n",
    "    TRAIN_SAMPLES=CLASSES*TRAIN\n",
    "    TEST_SAMPLES=CLASSES*TEST\n",
    "\n",
    "    train_poses = np.zeros((TRAIN_SAMPLES, PCA_DIM))\n",
    "    test_poses = np.zeros((TEST_SAMPLES, PCA_DIM))\n",
    "\n",
    "\n",
    "    random.seed(42)\n",
    "    test_classes = random.choices(range(0,68),k=CLASSES)\n",
    "\n",
    "    for i in range(0,CLASSES):\n",
    "        j = test_classes[i];\n",
    "        train_poses[TRAIN*i:TRAIN*i+TRAIN] = Y[13*j:13*j+TRAIN]\n",
    "        test_poses[TEST*i:TEST*i+TEST] =  Y[13*j+TRAIN:13*j+13]\n",
    "\n",
    "\n",
    "    mean = {}\n",
    "    var = {}\n",
    "\n",
    "    for i in range(0,CLASSES):\n",
    "        mean[i]=np.mean(train_poses[10*i:10*i+10],axis=0)\n",
    "        var[i]=np.var(train_poses[10*i:10*i+10],axis=0)\n",
    "\n",
    "    test_labels = np.zeros((CLASSES*TEST))\n",
    "\n",
    "    for i in range(0,CLASSES*TEST):\n",
    "        test_labels[i] = test_classes[i//TEST]\n",
    "\n",
    "    def gaussian_density(X, mean, var):\n",
    "        features = X.shape\n",
    "        exponent = np.exp(-((X-mean) ** 2) / (2 * var))\n",
    "        return (1 / (np.sqrt(2 * np.pi * var))) * exponent\n",
    "\n",
    "    densities = np.zeros((CLASSES,TEST_SAMPLES))\n",
    "    for j in range(0,TEST_SAMPLES):\n",
    "        for i in range(0,CLASSES):\n",
    "            densities[i,j] = np.sum(np.log(gaussian_density(test_poses[j],mean[i],var[i])))\n",
    "\n",
    "    predictions = np.argmax(densities, axis = 0)\n",
    "\n",
    "    right=0\n",
    "    wrong=0\n",
    "    for i in range(0,TEST_SAMPLES):\n",
    "        if test_classes[predictions[i]] == test_labels[i]:\n",
    "            right+=1\n",
    "        else:\n",
    "            wrong+=1\n",
    "\n",
    "    print(\"Correct : {} Incorrect : {} Accuracy : {} %\".format(right, wrong, right/TEST_SAMPLES * 100))\n",
    "    \n",
    "for split_ratio in [0.95, 0.90, 0.80, 0.70, 0.60, 0.50]:\n",
    "    for pca_dim in [10, 20, 30, 40 ,50 ,60]:\n",
    "        bayes_poses(split_ratio,pca_dim)"
   ]
  }
 ],
 "metadata": {
  "kernelspec": {
   "display_name": "Python 3",
   "language": "python",
   "name": "python3"
  },
  "language_info": {
   "codemirror_mode": {
    "name": "ipython",
    "version": 3
   },
   "file_extension": ".py",
   "mimetype": "text/x-python",
   "name": "python",
   "nbconvert_exporter": "python",
   "pygments_lexer": "ipython3",
   "version": "3.7.7"
  }
 },
 "nbformat": 4,
 "nbformat_minor": 4
}
